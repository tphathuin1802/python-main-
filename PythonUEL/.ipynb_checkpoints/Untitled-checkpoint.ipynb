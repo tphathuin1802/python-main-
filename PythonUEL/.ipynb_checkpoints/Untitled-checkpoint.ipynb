{
 "cells": [
  {
   "cell_type": "code",
   "execution_count": 7,
   "id": "975f9abc-298f-4cef-9b7c-423b19311416",
   "metadata": {},
   "outputs": [
    {
     "name": "stdout",
     "output_type": "stream",
     "text": [
      "Here is your table:\n",
      "\n",
      "╒════════╤════════╤═════════════════════╤══════════════════╤═══════════╤════════════╕\n",
      "│   Year │ Name   │   Credit / Semester │   Training Point │ GPA (4)   │   GPA (10) │\n",
      "╞════════╪════════╪═════════════════════╪══════════════════╪═══════════╪════════════╡\n",
      "│   2024 │ Th?nh  │                  15 │               90 │ A         │       8.2  │\n",
      "├────────┼────────┼─────────────────────┼──────────────────┼───────────┼────────────┤\n",
      "│   2024 │ T?     │                  12 │               90 │ A         │       8    │\n",
      "├────────┼────────┼─────────────────────┼──────────────────┼───────────┼────────────┤\n",
      "│   2024 │ Ph?    │                  16 │               86 │ C         │       6.7  │\n",
      "├────────┼────────┼─────────────────────┼──────────────────┼───────────┼────────────┤\n",
      "│   2024 │ Khoa   │                  21 │               24 │ B         │       7.67 │\n",
      "├────────┼────────┼─────────────────────┼──────────────────┼───────────┼────────────┤\n",
      "│   2024 │ T?     │                  21 │               76 │ A         │       8    │\n",
      "╘════════╧════════╧═════════════════════╧══════════════════╧═══════════╧════════════╛\n"
     ]
    }
   ],
   "source": [
    "\n",
    "#table show\n",
    "\n",
    "import csv\n",
    "\n",
    "import tabulate\n",
    "\n",
    "\n",
    "def showTable():\n",
    "    list_candidate = []\n",
    "\n",
    "    # Open the CSV file and read data\n",
    "    with open(\n",
    "        \"C:/Local Code/Projects/PyCharmProject/Chapter3Project/stack.csv\"\n",
    "    ) as input_file:\n",
    "        candidate = csv.DictReader(input_file)\n",
    "        for line in candidate:\n",
    "            list_candidate.append(line)\n",
    "\n",
    "    # Print the table\n",
    "    print(\"Here is your table:\\n\")\n",
    "    print(\n",
    "        tabulate.tabulate(\n",
    "            list_candidate,\n",
    "            headers=\"keys\",\n",
    "            tablefmt=\"fancy_grid\",\n",
    "        )\n",
    "    )\n",
    "\n",
    "\n",
    "showTable()\n",
    "\n"
   ]
  },
  {
   "cell_type": "code",
   "execution_count": 11,
   "id": "ce90d8ca-814a-4464-adbf-4045e2bbdbbb",
   "metadata": {},
   "outputs": [
    {
     "name": "stdout",
     "output_type": "stream",
     "text": [
      "hello\n"
     ]
    }
   ],
   "source": [
    "def main():\n",
    "    print(\"hello\")\n",
    "if __name__ ==BlockingIOError \"__main__\":\n",
    "    main()"
   ]
  },
  {
   "cell_type": "code",
   "execution_count": null,
   "id": "0988b869-507f-4b2c-828e-9dc741097914",
   "metadata": {},
   "outputs": [],
   "source": []
  }
 ],
 "metadata": {
  "kernelspec": {
   "display_name": "Python 3 (ipykernel)",
   "language": "python",
   "name": "python3"
  },
  "language_info": {
   "codemirror_mode": {
    "name": "ipython",
    "version": 3
   },
   "file_extension": ".py",
   "mimetype": "text/x-python",
   "name": "python",
   "nbconvert_exporter": "python",
   "pygments_lexer": "ipython3",
   "version": "3.12.4"
  }
 },
 "nbformat": 4,
 "nbformat_minor": 5
}
